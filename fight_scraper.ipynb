{
 "cells": [
  {
   "cell_type": "code",
   "execution_count": 1,
   "metadata": {},
   "outputs": [],
   "source": [
    "from selenium import webdriver\n",
    "from selenium.webdriver.chrome.service import Service\n",
    "from selenium.webdriver.support.ui import WebDriverWait\n",
    "from selenium.webdriver.support import expected_conditions as EC\n",
    "from selenium.webdriver.common.by import By\n",
    "from selenium.webdriver.common.keys import Keys\n",
    "from selenium.webdriver.chrome.options import Options"
   ]
  },
  {
   "cell_type": "code",
   "execution_count": null,
   "metadata": {},
   "outputs": [],
   "source": [
    "'''\n",
    "TODO:\n",
    "    - Create function to succesfully parse through different weight classes for men and women\n",
    "    - Store information for gender, weight class, title fight\n",
    "    - Fight IDs\n",
    "    - Remove unwanted variables (any percentages)\n",
    "    - Method of victory\n",
    "    - Effectively handle draws\n",
    "'''"
   ]
  },
  {
   "cell_type": "code",
   "execution_count": 8,
   "metadata": {},
   "outputs": [],
   "source": [
    "class WebDriver():\n",
    "    def __init__(self):\n",
    "        DRIVER_PATH = \"/Users/ArnoldYanga/Desktop/Selenium/chromedriver\"\n",
    "        self.driver = webdriver.Chrome(executable_path=DRIVER_PATH)\n",
    "    \n",
    "    def __call__(self, url):\n",
    "        self.driver.get(url)"
   ]
  },
  {
   "cell_type": "code",
   "execution_count": 10,
   "metadata": {},
   "outputs": [],
   "source": [
    "URL = \"http://www.ufcstats.com/statistics/events/completed\"\n",
    "\n",
    "web_driver = WebDriver()\n",
    "web_driver(URL)\n",
    "ufc_driver = web_driver.driver"
   ]
  },
  {
   "cell_type": "code",
   "execution_count": 14,
   "metadata": {},
   "outputs": [],
   "source": [
    "# Extract links for events\n",
    "links = ufc_driver.find_elements(By.XPATH, \"//tr[@class='b-statistics__table-row']//td//i//a\")"
   ]
  },
  {
   "cell_type": "code",
   "execution_count": 130,
   "metadata": {},
   "outputs": [
    {
     "data": {
      "text/plain": [
       "12"
      ]
     },
     "execution_count": 130,
     "metadata": {},
     "output_type": "execute_result"
    }
   ],
   "source": [
    "fight_element_xpath = \"//tr[@class='b-fight-details__table-row b-fight-details__table-row__hover js-fight-details-click']\"\n",
    "\n",
    "len(ufc_driver.find_elements(By.XPATH, fight_element_xpath))"
   ]
  },
  {
   "cell_type": "code",
   "execution_count": 21,
   "metadata": {},
   "outputs": [],
   "source": [
    "win_xpath = \"//td[@class='b-fight-details__table-col b-fight-details__table-col_style_align-top']//p[@class='b-fight-details__table-text']//a\"\n",
    "fight_links = ufc_driver.find_elements(By.XPATH, win_xpath)"
   ]
  },
  {
   "cell_type": "code",
   "execution_count": 22,
   "metadata": {},
   "outputs": [],
   "source": [
    "fight_links[0].click()"
   ]
  },
  {
   "cell_type": "code",
   "execution_count": 24,
   "metadata": {},
   "outputs": [
    {
     "data": {
      "text/plain": [
       "'W'"
      ]
     },
     "execution_count": 24,
     "metadata": {},
     "output_type": "execute_result"
    }
   ],
   "source": [
    "ufc_driver.find_element(By.XPATH, \"//i[@class='b-fight-details__person-status b-fight-details__person-status_style_green']\").text"
   ]
  },
  {
   "cell_type": "code",
   "execution_count": 116,
   "metadata": {},
   "outputs": [
    {
     "data": {
      "text/plain": [
       "['W', 'Vitor Belfort', '\"THE PHENOM\"', 'L', 'Anthony Johnson', '\"RUMBLE\"']"
      ]
     },
     "execution_count": 116,
     "metadata": {},
     "output_type": "execute_result"
    }
   ],
   "source": [
    "result_list = ufc_driver.find_element(By.XPATH, \"//div[@class='b-fight-details__persons clearfix']\").text.split('\\n')\n",
    "result_list "
   ]
  },
  {
   "cell_type": "code",
   "execution_count": 119,
   "metadata": {},
   "outputs": [],
   "source": [
    "def get_result(driver_):\n",
    "    result_list = driver_.find_element(By.XPATH, \"//div[@class='b-fight-details__persons clearfix']\").text.split('\\n')\n",
    "    for idx, result in enumerate(result_list):\n",
    "        if result == 'W':\n",
    "            win_idx = idx + 1\n",
    "    return result_list[win_idx]\n",
    "\n",
    "def split_fight_stats(data_):\n",
    "    new_strike_data = []\n",
    "    \n",
    "    for data in data_:\n",
    "        if 'of' in data:\n",
    "            new_strike_data += [i.strip() for i in data.split('of')]\n",
    "        else:\n",
    "            new_strike_data.append(data)\n",
    "    return new_strike_data\n",
    "\n",
    "def collect_fight_stats(fight_data_):\n",
    "    TOT_COLUMNS = [\n",
    "            'red_fighter', 'blue_fighter', 'red_knockdowns', 'blue_knockdowns', 'red_sig_strikes_landed', 'red_sig_strikes_att', \n",
    "            'blue_sig_strikes_landed','blue_sig_strikes_att', 'red_sig_strikes_pct', 'blue_sig_strikes_pct', 'red_strikes_landed', \n",
    "            'red_strikes_att', 'blue_strikes_landed', 'blue_strikes_att', 'red_takedowns_landed', 'red_takedowns_att', 'blue_takedowns_landed',\n",
    "            'blue_takedowns_att', 'red_takedowns_pct', 'blue_takedowns_pct', 'red_submission_att', 'blue_submission_att',\n",
    "            'red_reversals', 'blue_reversals', 'red_ctrl_time', 'blue_ctrl_time'\n",
    "        ]\n",
    "\n",
    "    SS_COLUMNS = [\n",
    "            'red_head_strikes_landed', 'red_head_strikes_att', 'blue_head_strikes_landed', 'blue_head_strikes_att', 'red_body_strikes_landed',\n",
    "            'red_body_strikes_att', 'blue_body_strikes_landed', 'blue_body_strikes_att', 'red_leg_strikes_landed', 'red_leg_strikes_att',\n",
    "            'blue_leg_strikes_landed', 'blue_leg_strikes_att', 'red_dist_strikes_landed', 'red_dist_strikes_att', 'blue_dist_strikes_landed',\n",
    "            'blue_dist_strikes_att', 'red_clinch_strikes_landed', 'red_clinch_strikes_att', 'blue_clinch_strikes_landed', 'blue_clinch_strikes_att',\n",
    "            'red_ground_strikes_landed', 'red_ground_strikes_att', 'blue_ground_strikes_landed', 'blue_ground_strikes_att'\n",
    "        ]\n",
    "\n",
    "    tot_data = split_fight_stats(fight_data_[0].text.split('\\n'))\n",
    "    ss_data = split_fight_stats(fight_data_[2].text.split('\\n'))\n",
    "\n",
    "    tot_dict = {col: tot_data[idx] for idx, col in enumerate(TOT_COLUMNS)}\n",
    "    ss_dict = {col: ss_data[idx + 8] for idx, col in enumerate(SS_COLUMNS)}\n",
    "\n",
    "    fight_dict = {**tot_dict, **ss_dict}\n",
    "\n",
    "    return fight_dict"
   ]
  },
  {
   "cell_type": "code",
   "execution_count": 120,
   "metadata": {},
   "outputs": [
    {
     "data": {
      "text/plain": [
       "'Vitor Belfort'"
      ]
     },
     "execution_count": 120,
     "metadata": {},
     "output_type": "execute_result"
    }
   ],
   "source": [
    "get_result(ufc_driver)"
   ]
  },
  {
   "cell_type": "code",
   "execution_count": 34,
   "metadata": {},
   "outputs": [],
   "source": [
    "result_list = result_text.split('\\n')"
   ]
  },
  {
   "cell_type": "code",
   "execution_count": 122,
   "metadata": {},
   "outputs": [
    {
     "name": "stdout",
     "output_type": "stream",
     "text": [
      "Vitor Belfort\n",
      "Anthony Johnson\n"
     ]
    }
   ],
   "source": [
    "for idx, result in enumerate(result_list):\n",
    "    if result == 'W':\n",
    "        win_idx = idx + 1\n",
    "    if result == 'L':\n",
    "        loss_idx = idx + 1\n",
    "\n",
    "print(result_list[win_idx])\n",
    "print(result_list[loss_idx])"
   ]
  },
  {
   "cell_type": "code",
   "execution_count": 128,
   "metadata": {},
   "outputs": [
    {
     "data": {
      "text/plain": [
       "'UFC FEATHERWEIGHT TITLE BOUT'"
      ]
     },
     "execution_count": 128,
     "metadata": {},
     "output_type": "execute_result"
    }
   ],
   "source": [
    "def get_weight_class(driver_):\n",
    "    return driver_.find_element(By.XPATH, \"//i[@class='b-fight-details__fight-title']\").text\n",
    "\n",
    "get_weight_class(ufc_driver)"
   ]
  },
  {
   "cell_type": "code",
   "execution_count": 121,
   "metadata": {},
   "outputs": [
    {
     "data": {
      "text/plain": [
       "{'red_fighter': 'Vitor Belfort',\n",
       " 'blue_fighter': 'Anthony Johnson',\n",
       " 'red_knockdowns': '0',\n",
       " 'blue_knockdowns': '0',\n",
       " 'red_sig_strikes_landed': '14',\n",
       " 'red_sig_strikes_att': '29',\n",
       " 'blue_sig_strikes_landed': '4',\n",
       " 'blue_sig_strikes_att': '16',\n",
       " 'red_sig_strikes_pct': '48%',\n",
       " 'blue_sig_strikes_pct': '25%',\n",
       " 'red_strikes_landed': '37',\n",
       " 'red_strikes_att': '54',\n",
       " 'blue_strikes_landed': '14',\n",
       " 'blue_strikes_att': '28',\n",
       " 'red_takedowns_landed': '0',\n",
       " 'red_takedowns_att': '0',\n",
       " 'blue_takedowns_landed': '2',\n",
       " 'blue_takedowns_att': '8',\n",
       " 'red_takedowns_pct': '---',\n",
       " 'blue_takedowns_pct': '25%',\n",
       " 'red_submission_att': '1',\n",
       " 'blue_submission_att': '0',\n",
       " 'red_reversals': '0',\n",
       " 'blue_reversals': '0',\n",
       " 'red_ctrl_time': '1:12',\n",
       " 'blue_ctrl_time': '2:12',\n",
       " 'red_head_strikes_landed': '14',\n",
       " 'red_head_strikes_att': '28',\n",
       " 'blue_head_strikes_landed': '3',\n",
       " 'blue_head_strikes_att': '14',\n",
       " 'red_body_strikes_landed': '0',\n",
       " 'red_body_strikes_att': '1',\n",
       " 'blue_body_strikes_landed': '1',\n",
       " 'blue_body_strikes_att': '1',\n",
       " 'red_leg_strikes_landed': '0',\n",
       " 'red_leg_strikes_att': '0',\n",
       " 'blue_leg_strikes_landed': '0',\n",
       " 'blue_leg_strikes_att': '1',\n",
       " 'red_dist_strikes_landed': '2',\n",
       " 'red_dist_strikes_att': '10',\n",
       " 'blue_dist_strikes_landed': '3',\n",
       " 'blue_dist_strikes_att': '11',\n",
       " 'red_clinch_strikes_landed': '1',\n",
       " 'red_clinch_strikes_att': '6',\n",
       " 'blue_clinch_strikes_landed': '0',\n",
       " 'blue_clinch_strikes_att': '1',\n",
       " 'red_ground_strikes_landed': '11',\n",
       " 'red_ground_strikes_att': '13',\n",
       " 'blue_ground_strikes_landed': '1',\n",
       " 'blue_ground_strikes_att': '4'}"
      ]
     },
     "execution_count": 121,
     "metadata": {},
     "output_type": "execute_result"
    }
   ],
   "source": [
    "fight_data = ufc_driver.find_elements(By.XPATH, \"//tbody[@class='b-fight-details__table-body']\")\n",
    "\n",
    "collect_fight_stats(fight_data)"
   ]
  },
  {
   "cell_type": "markdown",
   "metadata": {},
   "source": [
    "FIGHTER\tSIG. STR\tSIG. STR. %\tHEAD\tBODY\tLEG\tDISTANCE\tCLINCH\tGROUND"
   ]
  },
  {
   "cell_type": "code",
   "execution_count": 103,
   "metadata": {},
   "outputs": [],
   "source": [
    "tot_dict.update(ss_dict)"
   ]
  },
  {
   "cell_type": "code",
   "execution_count": 109,
   "metadata": {},
   "outputs": [
    {
     "data": {
      "text/plain": [
       "48"
      ]
     },
     "execution_count": 109,
     "metadata": {},
     "output_type": "execute_result"
    }
   ],
   "source": [
    "len(list(fight_dict.keys()))"
   ]
  },
  {
   "cell_type": "code",
   "execution_count": 110,
   "metadata": {},
   "outputs": [
    {
     "data": {
      "text/plain": [
       "{'red_head_strikes_landed': '71',\n",
       " 'red_head_strikes_att': '178',\n",
       " 'blue_head_strikes_landed': '23',\n",
       " 'blue_head_strikes_att': '106',\n",
       " 'red_body_strikes_landed': '21',\n",
       " 'red_body_strikes_att': '30',\n",
       " 'blue_body_strikes_landed': '23',\n",
       " 'blue_body_strikes_att': '27',\n",
       " 'red_leg_strikes_landed': '9',\n",
       " 'red_leg_strikes_att': '9',\n",
       " 'blue_leg_strikes_landed': '34',\n",
       " 'blue_leg_strikes_att': '39',\n",
       " 'red_dist_strikes_landed': '99',\n",
       " 'red_dist_strikes_att': '214',\n",
       " 'blue_dist_strikes_landed': '80',\n",
       " 'blue_dist_strikes_att': '172',\n",
       " 'red_clinch_strikes_landed': '2',\n",
       " 'red_clinch_strikes_att': '3',\n",
       " 'blue_clinch_strikes_landed': '0',\n",
       " 'blue_clinch_strikes_att': '0',\n",
       " 'red_ground_strikes_landed': '0',\n",
       " 'red_ground_strikes_att': '0',\n",
       " 'blue_ground_strikes_landed': '0',\n",
       " 'blue_ground_strikes_att': '0'}"
      ]
     },
     "execution_count": 110,
     "metadata": {},
     "output_type": "execute_result"
    }
   ],
   "source": [
    "ss_dict"
   ]
  },
  {
   "cell_type": "code",
   "execution_count": null,
   "metadata": {},
   "outputs": [],
   "source": []
  }
 ],
 "metadata": {
  "kernelspec": {
   "display_name": "Python 3.9.13 ('ufc-env')",
   "language": "python",
   "name": "python3"
  },
  "language_info": {
   "codemirror_mode": {
    "name": "ipython",
    "version": 3
   },
   "file_extension": ".py",
   "mimetype": "text/x-python",
   "name": "python",
   "nbconvert_exporter": "python",
   "pygments_lexer": "ipython3",
   "version": "3.9.13"
  },
  "orig_nbformat": 4,
  "vscode": {
   "interpreter": {
    "hash": "21a77681ddf289f2f656794af9e0af8e0c99414c96f5257c15b34b202e951b0c"
   }
  }
 },
 "nbformat": 4,
 "nbformat_minor": 2
}
